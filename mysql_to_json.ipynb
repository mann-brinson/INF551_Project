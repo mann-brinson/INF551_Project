{
 "cells": [
  {
   "cell_type": "code",
   "execution_count": 1,
   "metadata": {},
   "outputs": [],
   "source": [
    "#GOAL: Convert the world.sql into json, so it can be uploaded to Firebase\n",
    "import mysql.connector\n",
    "\n",
    "#Make a new connection to the MySQL server\n",
    "mydb = mysql.connector.connect(host=\"localhost\",\n",
    "                               user=\"root\",\n",
    "                               password='testpassword123',\n",
    "                               auth_plugin='mysql_native_password'\n",
    "                              )\n",
    "mycursor = mydb.cursor()"
   ]
  },
  {
   "cell_type": "code",
   "execution_count": 2,
   "metadata": {},
   "outputs": [
    {
     "name": "stdout",
     "output_type": "stream",
     "text": [
      "('information_schema',)\n",
      "('kickstarter',)\n",
      "('kickstarter_samp',)\n",
      "('mysql',)\n",
      "('performance_schema',)\n",
      "('sys',)\n",
      "('world',)\n"
     ]
    }
   ],
   "source": [
    "#Check dbs that exist\n",
    "mycursor.execute(\"SHOW DATABASES\")\n",
    "for x in mycursor:\n",
    "    print(x)"
   ]
  },
  {
   "cell_type": "code",
   "execution_count": 11,
   "metadata": {},
   "outputs": [
    {
     "name": "stdout",
     "output_type": "stream",
     "text": [
      "ABW\n",
      "Aruba\n",
      "North America\n",
      "Caribbean\n",
      "193.00\n",
      "None\n",
      "103000\n",
      "78.4\n",
      "828.00\n",
      "793.00\n",
      "Aruba\n",
      "Nonmetropolitan Territory of The Netherlands\n",
      "Beatrix\n",
      "129\n",
      "AW\n"
     ]
    }
   ],
   "source": [
    "#Select table=COUNTRY from the database=WORLD\n",
    "mydb = mysql.connector.connect(host=\"localhost\",\n",
    "                               user=\"root\",\n",
    "                               password='testpassword123',\n",
    "                               database='world',\n",
    "                               auth_plugin='mysql_native_password'\n",
    "                              )\n",
    "mycursor = mydb.cursor()\n",
    "mycursor.execute(\"SELECT * FROM country\")\n",
    "myresult = mycursor.fetchall()\n",
    "for x in myresult[0]:\n",
    "#     print(x)\n",
    "#     print(type(x))\n",
    "    \n",
    "    print(str(x))\n",
    "#     print(type(str(x)))"
   ]
  },
  {
   "cell_type": "code",
   "execution_count": null,
   "metadata": {},
   "outputs": [],
   "source": []
  }
 ],
 "metadata": {
  "kernelspec": {
   "display_name": "Python 3",
   "language": "python",
   "name": "python3"
  },
  "language_info": {
   "codemirror_mode": {
    "name": "ipython",
    "version": 3
   },
   "file_extension": ".py",
   "mimetype": "text/x-python",
   "name": "python",
   "nbconvert_exporter": "python",
   "pygments_lexer": "ipython3",
   "version": "3.7.3"
  }
 },
 "nbformat": 4,
 "nbformat_minor": 2
}
